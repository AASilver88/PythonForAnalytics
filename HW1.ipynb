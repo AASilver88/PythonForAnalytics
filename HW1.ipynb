{
  "metadata": {
    "language_info": {
      "codemirror_mode": {
        "name": "python",
        "version": 3
      },
      "file_extension": ".py",
      "mimetype": "text/x-python",
      "name": "python",
      "nbconvert_exporter": "python",
      "pygments_lexer": "ipython3",
      "version": "3.8"
    },
    "kernelspec": {
      "name": "python",
      "display_name": "Python (Pyodide)",
      "language": "python"
    }
  },
  "nbformat_minor": 4,
  "nbformat": 4,
  "cells": [
    {
      "cell_type": "markdown",
      "source": "# Урок 1",
      "metadata": {}
    },
    {
      "cell_type": "markdown",
      "source": "## Задание 1\nНа складе лежат разные фрукты в разном количестве.  \nНужно написать функцию, которая на вход принимает любое количество названий фруктов и их количество,  \nа возвращает общее количество фруктов на складе  ",
      "metadata": {}
    },
    {
      "cell_type": "code",
      "source": "def count_fruits(**kwargs):\n        return(sum(kwargs.values()))\n\nprint(\"На складе всего фруктов:\", count_fruits(Apple = 7, Banana = 15, Grape = 21))",
      "metadata": {
        "trusted": true
      },
      "execution_count": 1,
      "outputs": [
        {
          "name": "stdout",
          "text": "На складе всего фруктов: 43\n",
          "output_type": "stream"
        }
      ]
    },
    {
      "cell_type": "markdown",
      "source": "## Задание 2\nДан список с затратами на рекламу.  \nНо в данных есть ошибки, некоторые затраты имеют отрицательную величину.  \nУдалите такие значения из списка и посчитайте суммарные затраты\n[100, 125, -90, 345, 655, -1, 0, 200]  \nИспользуйте list comprehensions  ",
      "metadata": {}
    },
    {
      "cell_type": "code",
      "source": "old_list = [100, 125, -90, 345, 655, -1, 0, 200]\nnew_list = [c for c in old_list if c >= 0]\nprint(\"Новый список:\", new_list)\nsum_num_list = sum(new_list)\nprint(\"Суммарные затраты:\", sum_num_list)",
      "metadata": {
        "trusted": true
      },
      "execution_count": 2,
      "outputs": [
        {
          "name": "stdout",
          "text": "Новый список: [100, 125, 345, 655, 0, 200]\nСуммарные затраты: 1425\n",
          "output_type": "stream"
        }
      ]
    },
    {
      "cell_type": "markdown",
      "source": "## Задание 3\nДаны два списка.  \nДата покупки  \n['2021-09-14', '2021-12-15', '2021-09-08', '2021-12-05', '2021-10-09', '2021-09-30', '2021-12-22', '2021-11-29', '2021-12-24', '2021-11-26', '2021-10-27', '2021-12-18', '2021-11-09', '2021-11-23', '2021-09-27', '2021-10-02', '2021-12-27', '2021-09-20', '2021-12-13', '2021-11-01', '2021-11-09', '2021-12-06', '2021-12-08', '2021-10-09', '2021-10-31', '2021-09-30', '2021-11-09', '2021-12-13', '2021-10-26', '2021-12-09']  \nСуммы покупок по датам  \n[1270, 8413, 9028, 3703, 5739, 4095, 295, 4944, 5723, 3701, 4471, 651, 7037, 4274, 6275, 4988, 6930, 2971, 6592, 2004, 2822, 519, 3406, 2732, 5015, 2008, 316, 6333, 5700, 2887]  ",
      "metadata": {}
    },
    {
      "cell_type": "markdown",
      "source": "### Задание 3.1\nНайдите, какая выручка у компании в ноябре  \nИспользуйте list comprehensions  ",
      "metadata": {}
    },
    {
      "cell_type": "code",
      "source": "data_pay = ['2021-09-14', '2021-12-15', '2021-09-08', '2021-12-05', '2021-10-09', '2021-09-30', '2021-12-22', '2021-11-29', '2021-12-24', '2021-11-26', '2021-10-27', '2021-12-18', '2021-11-09', '2021-11-23', '2021-09-27', '2021-10-02', '2021-12-27', '2021-09-20', '2021-12-13', '2021-11-01', '2021-11-09', '2021-12-06', '2021-12-08', '2021-10-09', '2021-10-31', '2021-09-30', '2021-11-09', '2021-12-13', '2021-10-26', '2021-12-09'] \nsum_pay = [1270, 8413, 9028, 3703, 5739, 4095, 295, 4944, 5723, 3701, 4471, 651, 7037, 4274, 6275, 4988, 6930, 2971, 6592, 2004, 2822, 519, 3406, 2732, 5015, 2008, 316, 6333, 5700, 2887]\nresult = [sum_pay[i] for i in range(len(data_pay)) if data_pay[i].split(\"-\")[1] == \"11\"]\nprint(\"Выручка компании в ноябре:\", sum(result))",
      "metadata": {
        "trusted": true
      },
      "execution_count": 3,
      "outputs": [
        {
          "name": "stdout",
          "text": "Выручка компании в ноябре: 25098\n",
          "output_type": "stream"
        }
      ]
    },
    {
      "cell_type": "markdown",
      "source": "### Задание 3.2\nНайдите выручку компании в зависимости от месяца  \nДля этого напишите функцию, которая на вход принимает список с датами и список с выручкой,  \nа на выходе словарь, где ключи - это месяцы, а значения - это выручка.  \nИспользуйте аннотирование типов.  ",
      "metadata": {}
    },
    {
      "cell_type": "code",
      "source": "def revenue_month(date_: list, revenue: list) -> dict:\n    dict_ = {}\n    for i in range(len(date_)):\n        dict_[int(date_[i].split('-')[1])] = dict_.get(int(date_[i].split('-')[1]),0) + revenue[i]\n    return dict_\nprint(\"Выручка компании в зависимости от месяца:\", revenue_month(data_pay, sum_pay))",
      "metadata": {
        "trusted": true
      },
      "execution_count": 4,
      "outputs": [
        {
          "name": "stdout",
          "text": "Выручка компании в зависимости от месяца: {9: 25647, 12: 45452, 10: 28645, 11: 25098}\n",
          "output_type": "stream"
        }
      ]
    },
    {
      "cell_type": "code",
      "source": "",
      "metadata": {},
      "execution_count": null,
      "outputs": []
    }
  ]
}